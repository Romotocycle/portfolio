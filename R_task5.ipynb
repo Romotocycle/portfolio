{
  "nbformat": 4,
  "nbformat_minor": 0,
  "metadata": {
    "colab": {
      "provenance": []
    },
    "kernelspec": {
      "name": "ir",
      "display_name": "R"
    },
    "language_info": {
      "name": "R"
    }
  },
  "cells": [
    {
      "cell_type": "code",
      "execution_count": null,
      "metadata": {
        "id": "duG-1zHDhIui"
      },
      "outputs": [],
      "source": [
        "library(dplyr)\n",
        "library(vcdExtra)\n",
        "library(mice)\n",
        "library(caret)\n",
        "library(AUC)\n",
        "library(ROSE)\n",
        "library(\"caret\")\n",
        "library(ggplot2)\n",
        "library(fbroc)\n",
        "library(Hmisc)\n",
        "\n",
        "df <- read.csv('CARS.csv')\n",
        "df$Invoice <- as.numeric(gsub(\"[$,]\", \"\", df$Invoice))\n",
        "df$MSRP <- as.numeric(gsub(\"[$,]\", \"\", df$Invoice))"
      ]
    },
    {
      "cell_type": "code",
      "source": [
        "df$Cheap <- df$Invoice < 20000"
      ],
      "metadata": {
        "id": "ZdYcU9PsjDrI"
      },
      "execution_count": null,
      "outputs": []
    },
    {
      "cell_type": "markdown",
      "source": [
        "### Пункт 1"
      ],
      "metadata": {
        "id": "vUZQfHhd28ih"
      }
    },
    {
      "cell_type": "markdown",
      "source": [
        "В качестве основного предиктора рассмотрим бинарную переменную Wheelbase_bin (длинная или короткая колесная база)"
      ],
      "metadata": {
        "id": "N2HHu9sN3ANO"
      }
    },
    {
      "cell_type": "code",
      "source": [
        "copy_df <- df\n",
        "copy_df$Wheelbase_bin <- ifelse(copy_df$Wheelbase > median(copy_df$Wheelbase), 'Long', 'Short')\n",
        "table_chi <- table(copy_df$Wheelbase_bin, copy_df$Cheap)\n",
        "chisq.test(table_chi)"
      ],
      "metadata": {
        "colab": {
          "base_uri": "https://localhost:8080/",
          "height": 109
        },
        "id": "Bsj7VcrSm0qW",
        "outputId": "3a40adfe-fe5f-455f-fc19-375d5f09a824"
      },
      "execution_count": null,
      "outputs": [
        {
          "output_type": "display_data",
          "data": {
            "text/plain": [
              "\n",
              "\tPearson's Chi-squared test with Yates' continuity correction\n",
              "\n",
              "data:  table_chi\n",
              "X-squared = 54.893, df = 1, p-value = 1.273e-13\n"
            ]
          },
          "metadata": {}
        }
      ]
    },
    {
      "cell_type": "markdown",
      "source": [
        "p-value < 0.05, значит, зависимость статистически значима. Теперь добавим стратифицирующий предиктор Horsepower_bin (маломощные и высокомощные автомобили)"
      ],
      "metadata": {
        "id": "uoWOWCqj37q9"
      }
    },
    {
      "cell_type": "code",
      "source": [
        "# тест CMH\n",
        "\n",
        "copy_df$Horsepower_bin <- ifelse(copy_df$Horsepower > median(copy_df$Horsepower), 'HighPower', 'LowPower')\n",
        "CMHtest(Cheap ~ Wheelbase_bin | Horsepower_bin, data = copy_df)"
      ],
      "metadata": {
        "colab": {
          "base_uri": "https://localhost:8080/",
          "height": 405
        },
        "id": "2gZhuaBto9gS",
        "outputId": "39f442fb-177b-4365-831c-bdbd80e495d3"
      },
      "execution_count": null,
      "outputs": [
        {
          "output_type": "display_data",
          "data": {
            "text/plain": [
              "$`Horsepower_bin:HighPower`\n",
              "Cochran-Mantel-Haenszel Statistics for Wheelbase_bin by Cheap \n",
              "\tin stratum Horsepower_bin:HighPower \n",
              "\n",
              "                 AltHypothesis    Chisq Df    Prob\n",
              "cor        Nonzero correlation 0.019933  1 0.88772\n",
              "rmeans  Row mean scores differ 0.019933  1 0.88772\n",
              "cmeans  Col mean scores differ 0.019933  1 0.88772\n",
              "general    General association 0.019933  1 0.88772\n",
              "\n",
              "\n",
              "$`Horsepower_bin:LowPower`\n",
              "Cochran-Mantel-Haenszel Statistics for Wheelbase_bin by Cheap \n",
              "\tin stratum Horsepower_bin:LowPower \n",
              "\n",
              "                 AltHypothesis Chisq Df       Prob\n",
              "cor        Nonzero correlation 21.45  1 3.6311e-06\n",
              "rmeans  Row mean scores differ 21.45  1 3.6311e-06\n",
              "cmeans  Col mean scores differ 21.45  1 3.6311e-06\n",
              "general    General association 21.45  1 3.6311e-06\n",
              "\n"
            ]
          },
          "metadata": {}
        }
      ]
    },
    {
      "cell_type": "markdown",
      "source": [
        "Полученные значения p-value > 0.05 для высокомощных автомобилей, и p-value < 0.05 для маломощных. Таким образом, статистически значимой связи между Cheap и Wheelbase_bin для высокомощных автомобилей не наблюдается"
      ],
      "metadata": {
        "id": "C934YClG4YZ5"
      }
    },
    {
      "cell_type": "markdown",
      "source": [
        "## Пункт 2"
      ],
      "metadata": {
        "id": "duquTDhuE2KL"
      }
    },
    {
      "cell_type": "markdown",
      "source": [
        "Заполним пропуски"
      ],
      "metadata": {
        "id": "akeCcJzME6QB"
      }
    },
    {
      "cell_type": "code",
      "source": [
        "imputed_data <- mice(df, m = 5, maxit = 5, method = \"pmm\", seed = 42)\n",
        "completed_data <- complete(imputed_data, 1)\n",
        "df <- completed_data"
      ],
      "metadata": {
        "colab": {
          "base_uri": "https://localhost:8080/"
        },
        "id": "4OoE_oFw-nM5",
        "outputId": "571ccc0b-c044-4467-cf25-3382225d9786"
      },
      "execution_count": null,
      "outputs": [
        {
          "output_type": "stream",
          "name": "stdout",
          "text": [
            "\n",
            " iter imp variable\n",
            "  1   1  Cylinders\n",
            "  1   2  Cylinders\n",
            "  1   3  Cylinders\n",
            "  1   4  Cylinders\n",
            "  1   5  Cylinders\n",
            "  2   1  Cylinders\n",
            "  2   2  Cylinders\n",
            "  2   3  Cylinders\n",
            "  2   4  Cylinders\n",
            "  2   5  Cylinders\n",
            "  3   1  Cylinders\n",
            "  3   2  Cylinders\n",
            "  3   3  Cylinders\n",
            "  3   4  Cylinders\n",
            "  3   5  Cylinders\n",
            "  4   1  Cylinders\n",
            "  4   2  Cylinders\n",
            "  4   3  Cylinders\n",
            "  4   4  Cylinders\n",
            "  4   5  Cylinders\n",
            "  5   1  Cylinders\n",
            "  5   2  Cylinders\n",
            "  5   3  Cylinders\n",
            "  5   4  Cylinders\n",
            "  5   5  Cylinders\n"
          ]
        },
        {
          "output_type": "stream",
          "name": "stderr",
          "text": [
            "Warning message:\n",
            "“Number of logged events: 6”\n"
          ]
        }
      ]
    },
    {
      "cell_type": "code",
      "source": [
        "df$Origin <- as.factor(df$Origin)\n",
        "df$Type <- as.factor(df$Type)\n",
        "df$Make <- as.factor(df$Make)\n",
        "df$Model <- as.factor(df$Model)\n",
        "df$DriveTrain <- as.factor(df$DriveTrain)\n",
        "df$Cheap <- as.factor(df$Cheap)\n",
        "\n",
        "# effect схема кодирования\n",
        "\n",
        "contrasts(df$Origin) <- contr.sum(levels(df$Origin))\n",
        "contrasts(df$Type) <- contr.sum(levels(df$Type))\n",
        "contrasts(df$Make) <- contr.sum(levels(df$Make))\n",
        "contrasts(df$Model) <- contr.sum(levels(df$Model))\n",
        "contrasts(df$DriveTrain) <- contr.sum(levels(df$DriveTrain))\n",
        "contrasts(df$Cheap) <- contr.sum(levels(df$Cheap))"
      ],
      "metadata": {
        "id": "AaEHxtmmE_Bq"
      },
      "execution_count": null,
      "outputs": []
    },
    {
      "cell_type": "code",
      "source": [
        "base_model <- glm(Cheap ~ 1, data = df, family = binomial(link=\"logit\"))\n",
        "forward <- step(base_model, scope = list(lower = base_model, upper = Cheap ~ Origin + Type + Make + Model + DriveTrain + EngineSize + Cylinders + Horsepower + MPG_City + MPG_Highway + Weight + Wheelbase + Length), trace = TRUE, direction = 'forward')"
      ],
      "metadata": {
        "colab": {
          "base_uri": "https://localhost:8080/"
        },
        "id": "I5O8WDXHInuS",
        "outputId": "d7bfec58-f8e4-4b84-f586-b571332235a4"
      },
      "execution_count": null,
      "outputs": [
        {
          "output_type": "stream",
          "name": "stdout",
          "text": [
            "Start:  AIC=517.23\n",
            "Cheap ~ 1\n",
            "\n"
          ]
        },
        {
          "output_type": "stream",
          "name": "stderr",
          "text": [
            "Warning message:\n",
            "“glm.fit: algorithm did not converge”\n"
          ]
        },
        {
          "output_type": "stream",
          "name": "stdout",
          "text": [
            "               Df Deviance    AIC\n",
            "+ Horsepower    1   213.22 217.22\n",
            "+ MPG_City      1   305.63 309.63\n",
            "+ Cylinders     1   327.94 331.94\n",
            "+ Weight        1   336.24 340.24\n",
            "+ EngineSize    1   352.43 356.43\n",
            "+ MPG_Highway   1   378.17 382.17\n",
            "+ Make         37   315.22 391.22\n",
            "+ Wheelbase     1   452.34 456.34\n",
            "+ Origin        2   451.27 457.27\n",
            "+ Length        1   459.46 463.46\n",
            "+ DriveTrain    2   460.59 466.59\n",
            "+ Type          5   479.56 491.56\n",
            "<none>              515.23 517.23\n",
            "+ Model       424     0.00 850.00\n",
            "\n",
            "Step:  AIC=217.22\n",
            "Cheap ~ Horsepower\n",
            "\n"
          ]
        },
        {
          "output_type": "stream",
          "name": "stderr",
          "text": [
            "Warning message:\n",
            "“glm.fit: fitted probabilities numerically 0 or 1 occurred”\n",
            "Warning message:\n",
            "“glm.fit: algorithm did not converge”\n"
          ]
        },
        {
          "output_type": "stream",
          "name": "stdout",
          "text": [
            "               Df Deviance    AIC\n",
            "+ Type          5   180.30 194.30\n",
            "+ Origin        2   191.70 199.70\n",
            "+ EngineSize    1   208.93 214.93\n",
            "+ Wheelbase     1   210.16 216.16\n",
            "+ MPG_Highway   1   211.12 217.12\n",
            "<none>              213.22 217.22\n",
            "+ Length        1   211.24 217.23\n",
            "+ Weight        1   213.17 219.17\n",
            "+ Cylinders     1   213.22 219.22\n",
            "+ MPG_City      1   213.22 219.22\n",
            "+ DriveTrain    2   212.54 220.54\n",
            "+ Make         37   151.57 229.58\n",
            "+ Model       423     0.00 850.00\n",
            "\n",
            "Step:  AIC=194.3\n",
            "Cheap ~ Horsepower + Type\n",
            "\n"
          ]
        },
        {
          "output_type": "stream",
          "name": "stderr",
          "text": [
            "Warning message:\n",
            "“glm.fit: fitted probabilities numerically 0 or 1 occurred”\n",
            "Warning message:\n",
            "“glm.fit: algorithm did not converge”\n"
          ]
        },
        {
          "output_type": "stream",
          "name": "stdout",
          "text": [
            "               Df Deviance    AIC\n",
            "+ Origin        2   165.04 183.04\n",
            "+ MPG_City      1   173.04 189.04\n",
            "+ Weight        1   173.98 189.98\n",
            "+ DriveTrain    2   173.84 191.84\n",
            "+ MPG_Highway   1   177.40 193.40\n",
            "+ Wheelbase     1   177.71 193.71\n",
            "<none>              180.30 194.30\n",
            "+ Length        1   179.74 195.74\n",
            "+ Cylinders     1   179.88 195.88\n",
            "+ EngineSize    1   180.30 196.30\n",
            "+ Make         37   131.22 219.22\n",
            "+ Model       418     0.00 850.00\n",
            "\n",
            "Step:  AIC=183.04\n",
            "Cheap ~ Horsepower + Type + Origin\n",
            "\n"
          ]
        },
        {
          "output_type": "stream",
          "name": "stderr",
          "text": [
            "Warning message:\n",
            "“glm.fit: fitted probabilities numerically 0 or 1 occurred”\n",
            "Warning message:\n",
            "“glm.fit: algorithm did not converge”\n"
          ]
        },
        {
          "output_type": "stream",
          "name": "stdout",
          "text": [
            "               Df Deviance    AIC\n",
            "+ DriveTrain    2   156.23 178.23\n",
            "+ MPG_City      1   158.52 178.52\n",
            "+ Weight        1   158.87 178.87\n",
            "+ Wheelbase     1   160.32 180.32\n",
            "+ Length        1   160.39 180.39\n",
            "+ MPG_Highway   1   161.54 181.54\n",
            "<none>              165.04 183.04\n",
            "+ EngineSize    1   163.39 183.39\n",
            "+ Cylinders     1   164.81 184.81\n",
            "+ Make         35   131.22 219.22\n",
            "+ Model       416     0.00 850.00\n",
            "\n",
            "Step:  AIC=178.23\n",
            "Cheap ~ Horsepower + Type + Origin + DriveTrain\n",
            "\n"
          ]
        },
        {
          "output_type": "stream",
          "name": "stderr",
          "text": [
            "Warning message:\n",
            "“glm.fit: fitted probabilities numerically 0 or 1 occurred”\n",
            "Warning message:\n",
            "“glm.fit: algorithm did not converge”\n"
          ]
        },
        {
          "output_type": "stream",
          "name": "stdout",
          "text": [
            "               Df Deviance    AIC\n",
            "+ Wheelbase     1   149.46 173.46\n",
            "+ Length        1   149.70 173.70\n",
            "+ Weight        1   151.24 175.23\n",
            "+ MPG_City      1   151.64 175.64\n",
            "<none>              156.23 178.23\n",
            "+ MPG_Highway   1   154.36 178.36\n",
            "+ EngineSize    1   154.88 178.88\n",
            "+ Cylinders     1   155.12 179.12\n",
            "+ Make         35   126.82 218.82\n",
            "+ Model       415     0.00 852.00\n",
            "\n",
            "Step:  AIC=173.46\n",
            "Cheap ~ Horsepower + Type + Origin + DriveTrain + Wheelbase\n",
            "\n"
          ]
        },
        {
          "output_type": "stream",
          "name": "stderr",
          "text": [
            "Warning message:\n",
            "“glm.fit: fitted probabilities numerically 0 or 1 occurred”\n",
            "Warning message:\n",
            "“glm.fit: algorithm did not converge”\n"
          ]
        },
        {
          "output_type": "stream",
          "name": "stdout",
          "text": [
            "               Df Deviance    AIC\n",
            "<none>              149.46 173.46\n",
            "+ MPG_City      1   147.96 173.96\n",
            "+ Length        1   148.75 174.75\n",
            "+ Weight        1   148.82 174.82\n",
            "+ MPG_Highway   1   149.08 175.08\n",
            "+ EngineSize    1   149.35 175.35\n",
            "+ Cylinders     1   149.39 175.39\n",
            "+ Make         35   119.63 213.63\n",
            "+ Model       414     0.00 852.00\n"
          ]
        }
      ]
    },
    {
      "cell_type": "code",
      "source": [
        "df$true_col <- TRUE\n",
        "auc_values <- c()\n",
        "\n",
        "train_control <- trainControl(method = \"cv\")\n",
        "model <- train(Cheap ~ true_col, data = df, method = \"glm\", family = binomial(link=\"logit\"))\n",
        "pred <- predict(model, newdata = df)\n",
        "auc_values <- append(auc_values, auc(roc(pred,df$Cheap)))\n",
        "\n",
        "train_control <- trainControl(method = \"cv\", number = 5)\n",
        "model <- train(Cheap ~ Horsepower, data = df, method = \"glm\", family = binomial(link=\"logit\"), trControl = train_control)\n",
        "pred <- predict(model, newdata = df)\n",
        "auc_values <- append(auc_values, auc(roc(pred,df$Cheap)))\n",
        "\n",
        "train_control <- trainControl(method = \"cv\", number = 5)\n",
        "model <- train(Cheap ~ Horsepower + Type, data = df, method = \"glm\", family = binomial(link=\"logit\"), trControl = train_control)\n",
        "pred <- predict(model, newdata = df)\n",
        "auc_values <- append(auc_values, auc(roc(pred,df$Cheap)))\n",
        "\n",
        "train_control <- trainControl(method = \"cv\", number = 5)\n",
        "model <- train(Cheap ~ Horsepower + Type + Origin, data = df, method = \"glm\", family = binomial(link=\"logit\"), trControl = train_control)\n",
        "pred <- predict(model, newdata = df)\n",
        "auc_values <- append(auc_values, auc(roc(pred,df$Cheap)))\n",
        "\n",
        "train_control <- trainControl(method = \"cv\", number = 5)\n",
        "model <- train(Cheap ~ Horsepower + Type + Origin + DriveTrain, data = df, method = \"glm\", family = binomial(link=\"logit\"), trControl = train_control)\n",
        "pred <- predict(model, newdata = df)\n",
        "auc_values <- append(auc_values, auc(roc(pred,df$Cheap)))\n",
        "\n",
        "train_control <- trainControl(method = \"cv\", number = 5)\n",
        "model <- train(Cheap ~ Horsepower + Type + Origin + DriveTrain + Wheelbase, data = df, method = \"glm\", family = binomial(link=\"logit\"), trControl = train_control)\n",
        "pred <- predict(model, newdata = df)\n",
        "auc_values <- append(auc_values, auc(roc(pred,df$Cheap)))\n",
        "\n",
        "plot(c(1,2,3,4,5,6), auc_values, main = \"Зависимость AUC от сложности модели\", xlab = \"Количество предикторов\", ylab = \"AUC value\", type='l')"
      ],
      "metadata": {
        "colab": {
          "base_uri": "https://localhost:8080/",
          "height": 991
        },
        "id": "3KKKfqkrS9y2",
        "outputId": "ece36bae-9b0e-4c9f-b7bb-b7006718cbc0"
      },
      "execution_count": null,
      "outputs": [
        {
          "output_type": "stream",
          "name": "stderr",
          "text": [
            "Warning message:\n",
            "“glm.fit: fitted probabilities numerically 0 or 1 occurred”\n",
            "Warning message:\n",
            "“contrasts dropped from factor Type”\n",
            "Warning message:\n",
            "“glm.fit: fitted probabilities numerically 0 or 1 occurred”\n",
            "Warning message:\n",
            "“contrasts dropped from factor Type”\n",
            "Warning message:\n",
            "“contrasts dropped from factor Origin”\n",
            "Warning message:\n",
            "“glm.fit: fitted probabilities numerically 0 or 1 occurred”\n",
            "Warning message:\n",
            "“glm.fit: fitted probabilities numerically 0 or 1 occurred”\n",
            "Warning message:\n",
            "“contrasts dropped from factor Type”\n",
            "Warning message:\n",
            "“contrasts dropped from factor Origin”\n",
            "Warning message:\n",
            "“contrasts dropped from factor DriveTrain”\n",
            "Warning message:\n",
            "“glm.fit: fitted probabilities numerically 0 or 1 occurred”\n",
            "Warning message:\n",
            "“glm.fit: fitted probabilities numerically 0 or 1 occurred”\n",
            "Warning message:\n",
            "“contrasts dropped from factor Type”\n",
            "Warning message:\n",
            "“contrasts dropped from factor Origin”\n",
            "Warning message:\n",
            "“contrasts dropped from factor DriveTrain”\n"
          ]
        },
        {
          "output_type": "display_data",
          "data": {
            "text/plain": [
              "Plot with title “Зависимость AUC от сложности модели”"
            ],
            "image/png": "[encoded data removed]"
          },
          "metadata": {
            "image/png": {
              "width": 420,
              "height": 420
            }
          }
        }
      ]
    },
    {
      "cell_type": "markdown",
      "source": [
        "## Пункт 3"
      ],
      "metadata": {
        "id": "SR6ISqimJNPL"
      }
    },
    {
      "cell_type": "code",
      "source": [
        "calculate_woe <- function(categ, target) {\n",
        "\n",
        "  # Частоты для каждого уровня категории\n",
        "  counts <- table(categ, target)\n",
        "\n",
        "  # Общее число положительных и отрицательных событий\n",
        "  total_positives <- sum(counts[, 2])\n",
        "  total_negatives <- sum(counts[, 1])\n",
        "\n",
        "  # Частота положительных и отрицательных событий для каждого уровня категории\n",
        "  pos_freq <- counts[, 2] / total_positives\n",
        "  neg_freq <- counts[, 1] / total_negatives\n",
        "\n",
        "  pos_freq[pos_freq == 0] <- 0.000001\n",
        "  neg_freq[neg_freq == 0] <- 0.000001\n",
        "\n",
        "  # Расчет WOE\n",
        "  woe <- log(pos_freq / neg_freq)\n",
        "\n",
        "  return(woe)\n",
        "}\n",
        "\n",
        "cat_preds <- c('Type', 'Origin', 'DriveTrain', 'Make', 'Model')\n",
        "for (cat_pred in cat_preds)\n",
        "{\n",
        "  woe_result <- calculate_woe(df[[cat_pred]], df$Cheap)\n",
        "  #print(woe_result)\n",
        "\n",
        "  df[[cat_pred]] <- woe_result[match(df[[cat_pred]], names(woe_result))]\n",
        "}"
      ],
      "metadata": {
        "id": "AjF_8lHQBFSR"
      },
      "execution_count": null,
      "outputs": []
    },
    {
      "cell_type": "code",
      "source": [
        "base_model <- glm(Cheap ~ 1, data = df, family = binomial(link=\"logit\"))\n",
        "forward <- step(base_model, scope = list(lower = base_model, upper = Cheap ~ Origin + Type + Make + DriveTrain + EngineSize + Cylinders + Horsepower + MPG_City + MPG_Highway + Weight + Wheelbase + Length), trace = TRUE, direction = 'forward')"
      ],
      "metadata": {
        "colab": {
          "base_uri": "https://localhost:8080/"
        },
        "id": "T4btB3NkJgUt",
        "outputId": "6ca5f73a-e2fc-40f4-a6cc-0a1ae72c7888"
      },
      "execution_count": null,
      "outputs": [
        {
          "output_type": "stream",
          "name": "stdout",
          "text": [
            "Start:  AIC=517.23\n",
            "Cheap ~ 1\n",
            "\n",
            "              Df Deviance    AIC\n",
            "+ Horsepower   1   213.22 217.22\n",
            "+ MPG_City     1   305.63 309.63\n",
            "+ Make         1   315.22 319.22\n",
            "+ Cylinders    1   327.94 331.94\n",
            "+ Weight       1   336.24 340.24\n",
            "+ EngineSize   1   352.43 356.43\n",
            "+ MPG_Highway  1   378.17 382.17\n",
            "+ Origin       1   451.27 455.27\n",
            "+ Wheelbase    1   452.34 456.34\n",
            "+ Length       1   459.46 463.46\n",
            "+ DriveTrain   1   460.59 464.59\n",
            "+ Type         1   479.56 483.56\n",
            "<none>             515.23 517.23\n",
            "\n",
            "Step:  AIC=217.22\n",
            "Cheap ~ Horsepower\n",
            "\n",
            "              Df Deviance    AIC\n",
            "+ Make         1   169.01 175.01\n",
            "+ Origin       1   191.92 197.92\n",
            "+ Type         1   203.51 209.51\n",
            "+ EngineSize   1   208.93 214.93\n",
            "+ Wheelbase    1   210.16 216.16\n",
            "+ MPG_Highway  1   211.12 217.12\n",
            "<none>             213.22 217.22\n",
            "+ Length       1   211.24 217.24\n",
            "+ DriveTrain   1   213.04 219.04\n",
            "+ Weight       1   213.17 219.17\n",
            "+ Cylinders    1   213.22 219.22\n",
            "+ MPG_City     1   213.22 219.22\n",
            "\n",
            "Step:  AIC=175.01\n",
            "Cheap ~ Horsepower + Make\n",
            "\n"
          ]
        },
        {
          "output_type": "stream",
          "name": "stderr",
          "text": [
            "Warning message:\n",
            "“glm.fit: fitted probabilities numerically 0 or 1 occurred”\n"
          ]
        },
        {
          "output_type": "stream",
          "name": "stdout",
          "text": [
            "              Df Deviance    AIC\n",
            "+ Type         1   157.11 165.11\n",
            "<none>             169.01 175.01\n",
            "+ DriveTrain   1   167.13 175.13\n",
            "+ Wheelbase    1   167.26 175.26\n",
            "+ MPG_Highway  1   168.07 176.07\n",
            "+ Origin       1   168.12 176.12\n",
            "+ Length       1   168.31 176.31\n",
            "+ Cylinders    1   168.43 176.43\n",
            "+ EngineSize   1   168.61 176.61\n",
            "+ Weight       1   168.90 176.90\n",
            "+ MPG_City     1   168.94 176.94\n"
          ]
        },
        {
          "output_type": "stream",
          "name": "stderr",
          "text": [
            "Warning message:\n",
            "“glm.fit: fitted probabilities numerically 0 or 1 occurred”\n"
          ]
        },
        {
          "output_type": "stream",
          "name": "stdout",
          "text": [
            "\n",
            "Step:  AIC=165.11\n",
            "Cheap ~ Horsepower + Make + Type\n",
            "\n"
          ]
        },
        {
          "output_type": "stream",
          "name": "stderr",
          "text": [
            "Warning message:\n",
            "“glm.fit: fitted probabilities numerically 0 or 1 occurred”\n",
            "Warning message:\n",
            "“glm.fit: fitted probabilities numerically 0 or 1 occurred”\n",
            "Warning message:\n",
            "“glm.fit: fitted probabilities numerically 0 or 1 occurred”\n",
            "Warning message:\n",
            "“glm.fit: fitted probabilities numerically 0 or 1 occurred”\n",
            "Warning message:\n",
            "“glm.fit: fitted probabilities numerically 0 or 1 occurred”\n"
          ]
        },
        {
          "output_type": "stream",
          "name": "stdout",
          "text": [
            "              Df Deviance    AIC\n",
            "+ Weight       1   154.50 164.50\n",
            "+ Length       1   154.66 164.66\n",
            "+ DriveTrain   1   154.79 164.79\n",
            "<none>             157.11 165.11\n",
            "+ Origin       1   155.30 165.30\n",
            "+ Cylinders    1   156.16 166.16\n",
            "+ MPG_Highway  1   156.32 166.32\n",
            "+ Wheelbase    1   156.36 166.36\n",
            "+ MPG_City     1   156.77 166.77\n",
            "+ EngineSize   1   157.00 167.00\n",
            "\n",
            "Step:  AIC=164.5\n",
            "Cheap ~ Horsepower + Make + Type + Weight\n",
            "\n"
          ]
        },
        {
          "output_type": "stream",
          "name": "stderr",
          "text": [
            "Warning message:\n",
            "“glm.fit: fitted probabilities numerically 0 or 1 occurred”\n"
          ]
        },
        {
          "output_type": "stream",
          "name": "stdout",
          "text": [
            "              Df Deviance    AIC\n",
            "+ MPG_Highway  1   148.48 160.48\n",
            "+ DriveTrain   1   150.44 162.44\n",
            "<none>             154.50 164.50\n",
            "+ Origin       1   152.71 164.71\n",
            "+ Length       1   153.40 165.40\n",
            "+ MPG_City     1   154.04 166.04\n",
            "+ EngineSize   1   154.12 166.12\n",
            "+ Cylinders    1   154.24 166.24\n",
            "+ Wheelbase    1   154.50 166.50\n"
          ]
        },
        {
          "output_type": "stream",
          "name": "stderr",
          "text": [
            "Warning message:\n",
            "“glm.fit: fitted probabilities numerically 0 or 1 occurred”\n"
          ]
        },
        {
          "output_type": "stream",
          "name": "stdout",
          "text": [
            "\n",
            "Step:  AIC=160.48\n",
            "Cheap ~ Horsepower + Make + Type + Weight + MPG_Highway\n",
            "\n"
          ]
        },
        {
          "output_type": "stream",
          "name": "stderr",
          "text": [
            "Warning message:\n",
            "“glm.fit: fitted probabilities numerically 0 or 1 occurred”\n",
            "Warning message:\n",
            "“glm.fit: fitted probabilities numerically 0 or 1 occurred”\n",
            "Warning message:\n",
            "“glm.fit: fitted probabilities numerically 0 or 1 occurred”\n",
            "Warning message:\n",
            "“glm.fit: fitted probabilities numerically 0 or 1 occurred”\n",
            "Warning message:\n",
            "“glm.fit: fitted probabilities numerically 0 or 1 occurred”\n",
            "Warning message:\n",
            "“glm.fit: fitted probabilities numerically 0 or 1 occurred”\n",
            "Warning message:\n",
            "“glm.fit: fitted probabilities numerically 0 or 1 occurred”\n",
            "Warning message:\n",
            "“glm.fit: fitted probabilities numerically 0 or 1 occurred”\n"
          ]
        },
        {
          "output_type": "stream",
          "name": "stdout",
          "text": [
            "             Df Deviance    AIC\n",
            "+ MPG_City    1   142.22 156.22\n",
            "<none>            148.48 160.48\n",
            "+ DriveTrain  1   147.41 161.41\n",
            "+ Origin      1   147.80 161.80\n",
            "+ Cylinders   1   148.03 162.03\n",
            "+ Length      1   148.19 162.19\n",
            "+ EngineSize  1   148.41 162.41\n",
            "+ Wheelbase   1   148.48 162.48\n"
          ]
        },
        {
          "output_type": "stream",
          "name": "stderr",
          "text": [
            "Warning message:\n",
            "“glm.fit: fitted probabilities numerically 0 or 1 occurred”\n"
          ]
        },
        {
          "output_type": "stream",
          "name": "stdout",
          "text": [
            "\n",
            "Step:  AIC=156.22\n",
            "Cheap ~ Horsepower + Make + Type + Weight + MPG_Highway + MPG_City\n",
            "\n"
          ]
        },
        {
          "output_type": "stream",
          "name": "stderr",
          "text": [
            "Warning message:\n",
            "“glm.fit: fitted probabilities numerically 0 or 1 occurred”\n",
            "Warning message:\n",
            "“glm.fit: fitted probabilities numerically 0 or 1 occurred”\n",
            "Warning message:\n",
            "“glm.fit: fitted probabilities numerically 0 or 1 occurred”\n",
            "Warning message:\n",
            "“glm.fit: fitted probabilities numerically 0 or 1 occurred”\n",
            "Warning message:\n",
            "“glm.fit: fitted probabilities numerically 0 or 1 occurred”\n",
            "Warning message:\n",
            "“glm.fit: fitted probabilities numerically 0 or 1 occurred”\n",
            "Warning message:\n",
            "“glm.fit: fitted probabilities numerically 0 or 1 occurred”\n"
          ]
        },
        {
          "output_type": "stream",
          "name": "stdout",
          "text": [
            "             Df Deviance    AIC\n",
            "<none>            142.22 156.22\n",
            "+ EngineSize  1   140.90 156.90\n",
            "+ Origin      1   141.83 157.83\n",
            "+ DriveTrain  1   141.94 157.94\n",
            "+ Length      1   142.12 158.12\n",
            "+ Wheelbase   1   142.18 158.18\n",
            "+ Cylinders   1   142.22 158.22\n"
          ]
        }
      ]
    },
    {
      "cell_type": "markdown",
      "source": [
        "Выбираем модель Cheap ~ Horsepower + Make + Type + Weight + MPG_Highway + MPG_City как модель с наилучшим значением AIC"
      ],
      "metadata": {
        "id": "pGV2nnqIQQf8"
      }
    },
    {
      "cell_type": "markdown",
      "source": [
        "## Пункт 4"
      ],
      "metadata": {
        "id": "hg1STxIPRkHb"
      }
    },
    {
      "cell_type": "code",
      "source": [
        "set.seed(42)\n",
        "undersampled_data <- downSample(x = df, y = df$Cheap)"
      ],
      "metadata": {
        "id": "9xdM6kfRRm7K"
      },
      "execution_count": null,
      "outputs": []
    },
    {
      "cell_type": "code",
      "source": [
        "model_fulldata <- glm(Cheap ~ Horsepower + Make + Type + Weight + MPG_Highway + MPG_City, data = df, family = binomial(link=\"logit\"))\n",
        "roc_glm <- pROC::roc(model_fulldata$y, model_fulldata$fitted.values)\n",
        "plot(roc_glm, print.auc = TRUE)"
      ],
      "metadata": {
        "colab": {
          "base_uri": "https://localhost:8080/",
          "height": 548
        },
        "id": "5sHPcWI7V3nq",
        "outputId": "80a796ca-248c-46d3-d596-333d3bc82ac8"
      },
      "execution_count": null,
      "outputs": [
        {
          "output_type": "stream",
          "name": "stderr",
          "text": [
            "Warning message:\n",
            "“glm.fit: fitted probabilities numerically 0 or 1 occurred”\n",
            "Setting levels: control = 0, case = 1\n",
            "\n",
            "Setting direction: controls < cases\n",
            "\n"
          ]
        },
        {
          "output_type": "display_data",
          "data": {
            "text/plain": [
              "plot without title"
            ],
            "image/png": "[encoded data removed]"
          },
          "metadata": {
            "image/png": {
              "width": 420,
              "height": 420
            }
          }
        }
      ]
    },
    {
      "cell_type": "code",
      "source": [
        "model_undersampled <- glm(Cheap ~ Horsepower + Make + Type + Weight + MPG_Highway + MPG_City, data = undersampled_data, family = binomial(link=\"logit\"))\n",
        "roc_glm <- pROC::roc(model_undersampled$y, model_undersampled$fitted.values)\n",
        "plot(roc_glm, print.auc = TRUE)"
      ],
      "metadata": {
        "colab": {
          "base_uri": "https://localhost:8080/",
          "height": 511
        },
        "id": "0XZhtmLsx4dd",
        "outputId": "58f4d83f-1da6-4bbd-96c3-942fbbb22f2d"
      },
      "execution_count": null,
      "outputs": [
        {
          "output_type": "stream",
          "name": "stderr",
          "text": [
            "Setting levels: control = 0, case = 1\n",
            "\n",
            "Setting direction: controls < cases\n",
            "\n"
          ]
        },
        {
          "output_type": "display_data",
          "data": {
            "text/plain": [
              "plot without title"
            ],
            "image/png": "[encoded data removed]"
          },
          "metadata": {
            "image/png": {
              "width": 420,
              "height": 420
            }
          }
        }
      ]
    },
    {
      "cell_type": "markdown",
      "source": [
        "Качество undersampled модели изменилось несущественное (значение AUC = 0.98 для модели с полным набором данных и 0.973 для undersampled)"
      ],
      "metadata": {
        "id": "y-lhlet2fJ6c"
      }
    },
    {
      "cell_type": "markdown",
      "source": [
        "## Пункт 5"
      ],
      "metadata": {
        "id": "afF7cV0Sftn4"
      }
    },
    {
      "cell_type": "code",
      "source": [
        "data_odds <- data.frame(cbind(OR = coef(model_fulldata)))\n",
        "data_odds <- suppressWarnings(cbind(data_odds, confint(model_fulldata)))\n",
        "names(data_odds) <- c(\"Odds_ration\", \"Lower\", \"Upper\")\n",
        "ggplot(data_odds, aes(y = row.names(data_odds), x = Odds_ration)) +\n",
        "geom_point() +\n",
        "geom_errorbar(aes(xmin = Lower, xmax = Upper)) +\n",
        "geom_vline(xintercept = 1.0, colour = \"red\")"
      ],
      "metadata": {
        "colab": {
          "base_uri": "https://localhost:8080/",
          "height": 474
        },
        "id": "Dqn25pcTgjkX",
        "outputId": "e1d5dcc2-bd91-4567-b555-84d4aa4ad11f"
      },
      "execution_count": null,
      "outputs": [
        {
          "output_type": "stream",
          "name": "stderr",
          "text": [
            "Waiting for profiling to be done...\n",
            "\n"
          ]
        },
        {
          "output_type": "display_data",
          "data": {
            "text/plain": [
              "plot without title"
            ],
            "image/png": "[encoded data removed]"
          },
          "metadata": {
            "image/png": {
              "width": 420,
              "height": 420
            }
          }
        }
      ]
    },
    {
      "cell_type": "code",
      "source": [
        "# install.packages('vcdExtra')\n",
        "# install.packages('mice')\n",
        "# install.packages('caret')\n",
        "# install.packages('pROC')\n",
        "# install.packages('AUC')\n",
        "# install.packages(\"ROSE\")\n",
        "# install.packages(\"caret\")\n",
        "# install.packages(\"ggplot2\")\n",
        "# install.packages(\"fbroc\")\n",
        "# install.packages(\"verification\")\n",
        "# install.packages(\"Hmisc\")"
      ],
      "metadata": {
        "id": "dnM_wXbMtVuA"
      },
      "execution_count": null,
      "outputs": []
    }
  ]
}